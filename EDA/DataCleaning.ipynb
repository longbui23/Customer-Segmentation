{
  "cells": [
    {
      "cell_type": "markdown",
      "id": "c5f3d900",
      "metadata": {
        "id": "c5f3d900"
      },
      "source": [
        "<header>\n",
        "    <p style=\"text-align:center; font-size: 30px; color: green\"><b>DATA CLEANING</b></p>\n",
        "</header>"
      ]
    },
    {
      "cell_type": "markdown",
      "id": "906296b4",
      "metadata": {
        "id": "906296b4"
      },
      "source": [
        "<div style=\"border: 2px solid  gray;\">\n",
        "    The objective of this notebook is to propose an analytical view of Brazillian e-commerce relationship datasets. For this we will first go trough an exploratory data analysis using graphical tools to create self explanatory plots for better understanding what is behind braziian online purchasing. Finally we will look at customers reviews and implement.\n",
        "    \n",
        "We will go trough a extensive journey for understanding the data and plotting some useful charts to clarify the concepts and get insights from data and, at the end, we will go trough a step-by-step code on text preparating and sentiment classification using the reviews left from customer on online platforms. I hope you enjoy this notebook!\n",
        "</div>"
      ]
    },
    {
      "cell_type": "markdown",
      "id": "34fd2372",
      "metadata": {
        "id": "34fd2372"
      },
      "source": [
        "  <a id=\"top\"></a>\n",
        "    <div class=\"list-group\" id=\"list-tab\" role=\"tablist\">\n",
        "    <h3 class=\"list-group-item list-group-item-action active\" data-toggle=\"list\" role=\"tab\" aria-controls=\"home\">Table of Content</h3>\n",
        "        \n",
        "* [1. Background Introduction](#1)\n",
        "    - [a. Scenario](#1a)\n",
        "    - [b. Data and PackageImport](#1b)\n",
        "* [2. Data Cleaning](#2)\n",
        "    - [a. Data Overview](#2a)\n",
        "    - [b. Handling Null Values](#2b)\n",
        "        - [i. Replacing empty text](#2bi)\n",
        "        - [ii. Replacing empty datetime data](#2bii)\n",
        "        - [iii. Replacing empty quantity data](#2biii)\n",
        "        - [iv. Replacing empty categorical data](#2biv)"
      ]
    },
    {
      "cell_type": "markdown",
      "id": "6b835e11",
      "metadata": {
        "id": "6b835e11"
      },
      "source": [
        " <a id=\"1\"></a>\n",
        "<font color=\"lightblack\" size=+2.5><b>1. Introduction</b></font>"
      ]
    },
    {
      "cell_type": "markdown",
      "id": "9e2a8cc0",
      "metadata": {
        "id": "9e2a8cc0"
      },
      "source": [
        " <a id=\"1a\"></a>\n",
        "<font color=\"lightblue\" size=+2><b>a. Scenario</b></font>"
      ]
    },
    {
      "cell_type": "code",
      "source": [
        "#mount drive\n",
        "from google.colab import drive\n",
        "drive.mount('/content/drive')\n",
        "\n",
        "%cd /content/drive/My Drive/Ecommerce"
      ],
      "metadata": {
        "colab": {
          "base_uri": "https://localhost:8080/"
        },
        "id": "k04FJqLJf_dV",
        "outputId": "df52f404-793d-4987-9d1d-4457ef093485"
      },
      "id": "k04FJqLJf_dV",
      "execution_count": 61,
      "outputs": [
        {
          "output_type": "stream",
          "name": "stdout",
          "text": [
            "Drive already mounted at /content/drive; to attempt to forcibly remount, call drive.mount(\"/content/drive\", force_remount=True).\n",
            "/content/drive/My Drive/Ecommerce\n"
          ]
        }
      ]
    },
    {
      "cell_type": "markdown",
      "id": "420f358a",
      "metadata": {
        "id": "420f358a"
      },
      "source": [
        "This dataset was generously provided by Olist, the largest department store in Brazilian marketplaces. Olist connects small businesses from all over Brazil to channels without hassle and with a single contract. Those merchants are able to sell their products through the Olist Store and ship them directly to the customers using Olist logistics partners. See more on our website: www.olist.com\n",
        "\n",
        "After a customer purchases the product from Olist Store a seller gets notified to fulfill that order. Once the customer receives the product, or the estimated delivery date is due, the customer gets a satisfaction survey by email where he can give a note for the purchase experience and write down some comments."
      ]
    },
    {
      "cell_type": "markdown",
      "id": "c68124c3",
      "metadata": {
        "id": "c68124c3"
      },
      "source": [
        " <a id=\"1b\"></a>\n",
        "<font color=\"lightblue\" size=+2.5><b>b. Data and Package import</b></font>"
      ]
    },
    {
      "cell_type": "code",
      "source": [
        "!pip install pyspark"
      ],
      "metadata": {
        "colab": {
          "base_uri": "https://localhost:8080/"
        },
        "id": "vfmgWQv1gRbx",
        "outputId": "26957c5a-8c5e-4335-f45c-b23c8d983d8d"
      },
      "id": "vfmgWQv1gRbx",
      "execution_count": 64,
      "outputs": [
        {
          "output_type": "stream",
          "name": "stdout",
          "text": [
            "Requirement already satisfied: pyspark in /usr/local/lib/python3.10/dist-packages (3.5.1)\n",
            "Requirement already satisfied: py4j==0.10.9.7 in /usr/local/lib/python3.10/dist-packages (from pyspark) (0.10.9.7)\n"
          ]
        }
      ]
    },
    {
      "cell_type": "code",
      "execution_count": 62,
      "id": "e08e750d",
      "metadata": {
        "id": "e08e750d"
      },
      "outputs": [],
      "source": [
        "#data cleaning\n",
        "import numpy as np\n",
        "import pandas as pd\n",
        "import datetime\n",
        "import math\n",
        "\n",
        "#Imputation\n",
        "from sklearn.impute import KNNImputer\n",
        "\n",
        "#datapreprocessing + clustering\n",
        "from sklearn import preprocessing\n",
        "from sklearn.model_selection import train_test_split\n",
        "from sklearn.preprocessing import StandardScaler\n",
        "from sklearn.preprocessing import Normalizer\n",
        "from scipy.stats import skew, norm, probplot, boxcox\n",
        "from sklearn.metrics import mean_squared_error\n",
        "\n",
        "#SVC\n",
        "from sklearn.svm import SVC\n",
        "from sklearn.preprocessing import LabelEncoder\n",
        "from sklearn.metrics import classification_report, accuracy_score\n",
        "\n",
        "\n",
        "#data visualization\n",
        "import matplotlib.pyplot as plt\n",
        "import seaborn as sns\n",
        "\n",
        "#Pyspark\n",
        "from pyspark.sql import SparkSession\n",
        "from pyspark.ml.feature import VectorAssembler, StringIndexer\n",
        "from pyspark.ml.classification import LinearSVC\n",
        "from pyspark.ml.evaluation import MulticlassClassificationEvaluator\n",
        "from pyspark.ml import Pipeline\n",
        "from pyspark.ml.evaluation import MulticlassClassificationEvaluator"
      ]
    },
    {
      "cell_type": "code",
      "execution_count": 65,
      "id": "dab9a309",
      "metadata": {
        "id": "dab9a309"
      },
      "outputs": [],
      "source": [
        "#import data\n",
        "customer_df = pd.read_csv('Data/OriginalDatasets/olist_customers_dataset.csv')\n",
        "geolocation_df = pd.read_csv('Data/OriginalDatasets/olist_geolocation_dataset.csv')\n",
        "orders_df = pd.read_csv('Data/OriginalDatasets/olist_orders_dataset.csv')\n",
        "items_df = pd.read_csv('Data/OriginalDatasets/olist_order_items_dataset.csv')\n",
        "payments_df = pd.read_csv('Data/OriginalDatasets/olist_order_payments_dataset.csv')\n",
        "reviews_df = pd.read_csv('Data/OriginalDatasets/olist_order_reviews_dataset.csv')\n",
        "products_df = pd.read_csv('Data/OriginalDatasets/olist_products_dataset.csv')\n",
        "sellers_df = pd.read_csv('Data/OriginalDatasets/olist_sellers_dataset.csv')\n",
        "\n",
        "# Collections for each dataset\n",
        "datasets = [customer_df, geolocation_df, orders_df, items_df, payments_df,\n",
        "            reviews_df, products_df, sellers_df]\n",
        "names = ['customer_df', 'geolocation_df', 'orders_df', 'items_df', 'payments_df',\n",
        "         'reviews_df', 'products_df', 'sellers_df']"
      ]
    },
    {
      "cell_type": "code",
      "execution_count": null,
      "id": "c831ae38",
      "metadata": {
        "id": "c831ae38"
      },
      "outputs": [],
      "source": [
        "#save clean datasets into clean data folders\n",
        "customer_df.to_csv('../Data/CleanData/clean_customer_df.csv')\n",
        "geolocation_df.to_csv('../Data/CleanData/clean_geolocation_df.csv')\n",
        "items_df.to_csv('../Data/CleanData/clean_order_items_df.csv')\n",
        "payments_df.to_csv('../Data/CleanData/clean_order_payments_df.csv')\n",
        "sellers_df.to_csv('../Data/CleanData/clean_sellers_df.csv')"
      ]
    },
    {
      "cell_type": "markdown",
      "id": "bd8a8a7a",
      "metadata": {
        "id": "bd8a8a7a"
      },
      "source": [
        " <a id=\"2\"></a>\n",
        "<font color=\"lightblack\" size=+2.5><b>2. Data Cleaning</b></font>"
      ]
    },
    {
      "cell_type": "markdown",
      "id": "fb5ad20a",
      "metadata": {
        "id": "fb5ad20a"
      },
      "source": [
        " <a id=\"2a\"></a>\n",
        "<font color=\"lightblue\" size=+2><b>a. Data Overview</b></font>"
      ]
    },
    {
      "cell_type": "code",
      "execution_count": null,
      "id": "f5017d4f",
      "metadata": {
        "scrolled": true,
        "id": "f5017d4f",
        "outputId": "e11391ae-16ca-407a-8944-32d11625fd1d"
      },
      "outputs": [
        {
          "data": {
            "text/html": [
              "<div>\n",
              "<style scoped>\n",
              "    .dataframe tbody tr th:only-of-type {\n",
              "        vertical-align: middle;\n",
              "    }\n",
              "\n",
              "    .dataframe tbody tr th {\n",
              "        vertical-align: top;\n",
              "    }\n",
              "\n",
              "    .dataframe thead th {\n",
              "        text-align: right;\n",
              "    }\n",
              "</style>\n",
              "<table border=\"1\" class=\"dataframe\">\n",
              "  <thead>\n",
              "    <tr style=\"text-align: right;\">\n",
              "      <th></th>\n",
              "      <th>Dataset</th>\n",
              "      <th>Shape</th>\n",
              "      <th>null-amount</th>\n",
              "      <th>num_of_null_col</th>\n",
              "      <th>null_col</th>\n",
              "    </tr>\n",
              "  </thead>\n",
              "  <tbody>\n",
              "    <tr>\n",
              "      <th>0</th>\n",
              "      <td>customer_df</td>\n",
              "      <td>(99441, 5)</td>\n",
              "      <td>0</td>\n",
              "      <td>0</td>\n",
              "      <td></td>\n",
              "    </tr>\n",
              "    <tr>\n",
              "      <th>1</th>\n",
              "      <td>geolocation_df</td>\n",
              "      <td>(1000163, 5)</td>\n",
              "      <td>0</td>\n",
              "      <td>0</td>\n",
              "      <td></td>\n",
              "    </tr>\n",
              "    <tr>\n",
              "      <th>2</th>\n",
              "      <td>orders_df</td>\n",
              "      <td>(99441, 8)</td>\n",
              "      <td>4908</td>\n",
              "      <td>3</td>\n",
              "      <td>order_approved_at, order_delivered_carrier_dat...</td>\n",
              "    </tr>\n",
              "    <tr>\n",
              "      <th>3</th>\n",
              "      <td>items_df</td>\n",
              "      <td>(112650, 7)</td>\n",
              "      <td>0</td>\n",
              "      <td>0</td>\n",
              "      <td></td>\n",
              "    </tr>\n",
              "    <tr>\n",
              "      <th>4</th>\n",
              "      <td>payments_df</td>\n",
              "      <td>(103886, 5)</td>\n",
              "      <td>0</td>\n",
              "      <td>0</td>\n",
              "      <td></td>\n",
              "    </tr>\n",
              "    <tr>\n",
              "      <th>5</th>\n",
              "      <td>reviews_df</td>\n",
              "      <td>(99224, 7)</td>\n",
              "      <td>145903</td>\n",
              "      <td>2</td>\n",
              "      <td>review_comment_title, review_comment_message</td>\n",
              "    </tr>\n",
              "    <tr>\n",
              "      <th>6</th>\n",
              "      <td>products_df</td>\n",
              "      <td>(32951, 9)</td>\n",
              "      <td>2448</td>\n",
              "      <td>8</td>\n",
              "      <td>product_category_name, product_name_lenght, pr...</td>\n",
              "    </tr>\n",
              "    <tr>\n",
              "      <th>7</th>\n",
              "      <td>sellers_df</td>\n",
              "      <td>(3095, 4)</td>\n",
              "      <td>0</td>\n",
              "      <td>0</td>\n",
              "      <td></td>\n",
              "    </tr>\n",
              "  </tbody>\n",
              "</table>\n",
              "</div>"
            ],
            "text/plain": [
              "          Dataset         Shape  null-amount  num_of_null_col  \\\n",
              "0     customer_df    (99441, 5)            0                0   \n",
              "1  geolocation_df  (1000163, 5)            0                0   \n",
              "2       orders_df    (99441, 8)         4908                3   \n",
              "3        items_df   (112650, 7)            0                0   \n",
              "4     payments_df   (103886, 5)            0                0   \n",
              "5      reviews_df    (99224, 7)       145903                2   \n",
              "6     products_df    (32951, 9)         2448                8   \n",
              "7      sellers_df     (3095, 4)            0                0   \n",
              "\n",
              "                                            null_col  \n",
              "0                                                     \n",
              "1                                                     \n",
              "2  order_approved_at, order_delivered_carrier_dat...  \n",
              "3                                                     \n",
              "4                                                     \n",
              "5       review_comment_title, review_comment_message  \n",
              "6  product_category_name, product_name_lenght, pr...  \n",
              "7                                                     "
            ]
          },
          "execution_count": 119,
          "metadata": {},
          "output_type": "execute_result"
        }
      ],
      "source": [
        "#constructing info table for datasets\n",
        "info_tab = pd.DataFrame({})\n",
        "\n",
        "info_tab['Dataset'] = names\n",
        "info_tab['Shape'] = [df.shape for df in datasets]\n",
        "info_tab['null-amount'] = [df.isnull().sum().sum() for df in datasets]\n",
        "info_tab['num_of_null_col'] = [len([col for col, null in df.isnull().sum().items() if null > 0]) for df in datasets]\n",
        "info_tab['null_col'] = [', '.join([col for col, null in df.isnull().sum().items() if null > 0]) for df in datasets]\n",
        "\n",
        "info_tab"
      ]
    },
    {
      "cell_type": "markdown",
      "id": "d67f3c72",
      "metadata": {
        "id": "d67f3c72"
      },
      "source": [
        "As we could observe, table <em>orders_df</em>, <em>reviews_df</em>, <em>products_df</em> contains null values."
      ]
    },
    {
      "cell_type": "markdown",
      "id": "9ec4bec9",
      "metadata": {
        "id": "9ec4bec9"
      },
      "source": [
        " <a id=\"2b\"></a>\n",
        "<font color=\"lightblue\" size=+2><b>b. Handling null values</b></font>"
      ]
    },
    {
      "cell_type": "markdown",
      "id": "9a47190a",
      "metadata": {
        "id": "9a47190a"
      },
      "source": [
        " <a id=\"2bi\"></a>\n",
        "<font color=\"green\" size=+2><b>i. String null values (reviews_df)</b></font>"
      ]
    },
    {
      "cell_type": "code",
      "execution_count": null,
      "id": "8d267927",
      "metadata": {
        "id": "8d267927",
        "outputId": "52196ac1-bc4d-408e-da13-d7118e0cbd6c"
      },
      "outputs": [
        {
          "data": {
            "text/plain": [
              "review_id                      0\n",
              "order_id                       0\n",
              "review_score                   0\n",
              "review_comment_title       87656\n",
              "review_comment_message     58247\n",
              "review_creation_date           0\n",
              "review_answer_timestamp        0\n",
              "dtype: int64"
            ]
          },
          "execution_count": 120,
          "metadata": {},
          "output_type": "execute_result"
        }
      ],
      "source": [
        "reviews_df.isnull().sum()"
      ]
    },
    {
      "cell_type": "markdown",
      "id": "a6075612",
      "metadata": {
        "id": "a6075612"
      },
      "source": [
        "As we could see that, null values in reviews_df are empty string. Let's replace it with empty string."
      ]
    },
    {
      "cell_type": "code",
      "execution_count": null,
      "id": "7d257cd3",
      "metadata": {
        "scrolled": true,
        "id": "7d257cd3",
        "outputId": "dbade774-47ea-4c7d-bf8b-5d87810bebc1"
      },
      "outputs": [
        {
          "data": {
            "text/plain": [
              "review_id                  0\n",
              "order_id                   0\n",
              "review_score               0\n",
              "review_comment_title       0\n",
              "review_comment_message     0\n",
              "review_creation_date       0\n",
              "review_answer_timestamp    0\n",
              "dtype: int64"
            ]
          },
          "execution_count": 121,
          "metadata": {},
          "output_type": "execute_result"
        }
      ],
      "source": [
        "#replacing null values with empty string\n",
        "reviews_df['review_comment_title'].fillna(\" \", inplace=True)\n",
        "reviews_df['review_comment_message'].fillna(\" \", inplace=True)\n",
        "\n",
        "reviews_df.isnull().sum()"
      ]
    },
    {
      "cell_type": "code",
      "execution_count": null,
      "id": "5f1a9454",
      "metadata": {
        "id": "5f1a9454"
      },
      "outputs": [],
      "source": [
        "#store clean_data\n",
        "reviews_df.to_csv('../Data/CleanData/clean_reviews_df.csv')"
      ]
    },
    {
      "cell_type": "markdown",
      "id": "efb4be9b",
      "metadata": {
        "id": "efb4be9b"
      },
      "source": [
        " <a id=\"2bii\"></a>\n",
        "<font color=\"green\" size=+2><b>ii. Datetime Null Values (orders_df)</b></font>"
      ]
    },
    {
      "cell_type": "code",
      "execution_count": 66,
      "id": "f92bb8c6",
      "metadata": {
        "scrolled": true,
        "id": "f92bb8c6",
        "outputId": "824a232a-7f8d-420c-cd38-b490a99bebbc",
        "colab": {
          "base_uri": "https://localhost:8080/"
        }
      },
      "outputs": [
        {
          "output_type": "execute_result",
          "data": {
            "text/plain": [
              "order_id                            0\n",
              "customer_id                         0\n",
              "order_status                        0\n",
              "order_purchase_timestamp            0\n",
              "order_approved_at                 160\n",
              "order_delivered_carrier_date     1783\n",
              "order_delivered_customer_date    2965\n",
              "order_estimated_delivery_date       0\n",
              "dtype: int64"
            ]
          },
          "metadata": {},
          "execution_count": 66
        }
      ],
      "source": [
        "orders_df.isnull().sum()"
      ]
    },
    {
      "cell_type": "code",
      "execution_count": 67,
      "id": "83e53fb8",
      "metadata": {
        "id": "83e53fb8",
        "outputId": "43a6824a-1389-4d0c-e1af-cdc8b0856aeb",
        "colab": {
          "base_uri": "https://localhost:8080/"
        }
      },
      "outputs": [
        {
          "output_type": "stream",
          "name": "stdout",
          "text": [
            "<class 'pandas.core.frame.DataFrame'>\n",
            "RangeIndex: 99441 entries, 0 to 99440\n",
            "Data columns (total 8 columns):\n",
            " #   Column                         Non-Null Count  Dtype         \n",
            "---  ------                         --------------  -----         \n",
            " 0   order_id                       99441 non-null  object        \n",
            " 1   customer_id                    99441 non-null  object        \n",
            " 2   order_status                   99441 non-null  object        \n",
            " 3   order_purchase_timestamp       99441 non-null  datetime64[ns]\n",
            " 4   order_approved_at              99281 non-null  datetime64[ns]\n",
            " 5   order_delivered_carrier_date   97658 non-null  datetime64[ns]\n",
            " 6   order_delivered_customer_date  96476 non-null  datetime64[ns]\n",
            " 7   order_estimated_delivery_date  99441 non-null  object        \n",
            "dtypes: datetime64[ns](4), object(4)\n",
            "memory usage: 6.1+ MB\n"
          ]
        }
      ],
      "source": [
        "#convert to datetime value\n",
        "orders_df['order_purchase_timestamp'] = pd.to_datetime(orders_df['order_purchase_timestamp'])\n",
        "orders_df['order_approved_at'] = pd.to_datetime(orders_df['order_approved_at'])\n",
        "orders_df['order_delivered_carrier_date'] = pd.to_datetime(orders_df['order_delivered_carrier_date'])\n",
        "orders_df['order_delivered_customer_date'] = pd.to_datetime(orders_df['order_delivered_customer_date'])\n",
        "\n",
        "orders_df.info()"
      ]
    },
    {
      "cell_type": "code",
      "execution_count": 68,
      "id": "4c53d8c2",
      "metadata": {
        "id": "4c53d8c2",
        "outputId": "1909c075-8434-47f7-8515-49f6429f3015",
        "colab": {
          "base_uri": "https://localhost:8080/"
        }
      },
      "outputs": [
        {
          "output_type": "execute_result",
          "data": {
            "text/plain": [
              "product_id                      0\n",
              "product_category_name         610\n",
              "product_name_lenght           610\n",
              "product_description_lenght    610\n",
              "product_photos_qty            610\n",
              "product_weight_g                2\n",
              "product_length_cm               2\n",
              "product_height_cm               2\n",
              "product_width_cm                2\n",
              "dtype: int64"
            ]
          },
          "metadata": {},
          "execution_count": 68
        }
      ],
      "source": [
        "products_df.isnull().sum()"
      ]
    },
    {
      "cell_type": "code",
      "execution_count": 69,
      "id": "41a15cdd",
      "metadata": {
        "scrolled": true,
        "id": "41a15cdd",
        "outputId": "8e367eab-dc9c-437d-9659-632ffaba8a18",
        "colab": {
          "base_uri": "https://localhost:8080/"
        }
      },
      "outputs": [
        {
          "output_type": "execute_result",
          "data": {
            "text/plain": [
              "order_id                         0\n",
              "customer_id                      0\n",
              "order_status                     0\n",
              "order_purchase_timestamp         0\n",
              "order_approved_at                0\n",
              "order_delivered_carrier_date     0\n",
              "order_delivered_customer_date    0\n",
              "order_estimated_delivery_date    0\n",
              "dtype: int64"
            ]
          },
          "metadata": {},
          "execution_count": 69
        }
      ],
      "source": [
        "#loop through col that contains null\n",
        "for i in [4,5,6]:\n",
        "    #find the time difference (to find the mean time difference)\n",
        "    time_diff = orders_df.iloc[:,i-1] - orders_df.iloc[:,i]\n",
        "    #use formula: col that has missing value = col that does not have + mean(time difference between 2 columns)\n",
        "    orders_df.iloc[:,i].fillna(value=orders_df[orders_df.iloc[:,i].isnull()].iloc[:,i-1] + time_diff.mean(), inplace=True)\n",
        "\n",
        "orders_df.isnull().sum()"
      ]
    },
    {
      "cell_type": "code",
      "execution_count": 71,
      "id": "1c338059",
      "metadata": {
        "id": "1c338059"
      },
      "outputs": [],
      "source": [
        "#store clean_data\n",
        "orders_df.to_csv('Data/CleanData/clean_orders_df.csv')"
      ]
    },
    {
      "cell_type": "markdown",
      "id": "d3f289ea",
      "metadata": {
        "id": "d3f289ea"
      },
      "source": [
        " <a id=\"2biii\"></a>\n",
        "<font color=\"green\" size=+2><b>iii. Quantity Null Values (products_df)</b></font>"
      ]
    },
    {
      "cell_type": "code",
      "execution_count": null,
      "id": "a4ef6d2c",
      "metadata": {
        "id": "a4ef6d2c",
        "outputId": "b55426c1-3b95-4a8b-ba08-2f34b85ee6b7"
      },
      "outputs": [
        {
          "data": {
            "text/html": [
              "<div>\n",
              "<style scoped>\n",
              "    .dataframe tbody tr th:only-of-type {\n",
              "        vertical-align: middle;\n",
              "    }\n",
              "\n",
              "    .dataframe tbody tr th {\n",
              "        vertical-align: top;\n",
              "    }\n",
              "\n",
              "    .dataframe thead th {\n",
              "        text-align: right;\n",
              "    }\n",
              "</style>\n",
              "<table border=\"1\" class=\"dataframe\">\n",
              "  <thead>\n",
              "    <tr style=\"text-align: right;\">\n",
              "      <th></th>\n",
              "      <th>product_id</th>\n",
              "      <th>product_category_name</th>\n",
              "      <th>product_name_lenght</th>\n",
              "      <th>product_description_lenght</th>\n",
              "      <th>product_photos_qty</th>\n",
              "      <th>product_weight_g</th>\n",
              "      <th>product_length_cm</th>\n",
              "      <th>product_height_cm</th>\n",
              "      <th>product_width_cm</th>\n",
              "    </tr>\n",
              "  </thead>\n",
              "  <tbody>\n",
              "    <tr>\n",
              "      <th>8578</th>\n",
              "      <td>09ff539a621711667c43eba6a3bd8466</td>\n",
              "      <td>bebes</td>\n",
              "      <td>60.0</td>\n",
              "      <td>865.0</td>\n",
              "      <td>3.0</td>\n",
              "      <td>NaN</td>\n",
              "      <td>NaN</td>\n",
              "      <td>NaN</td>\n",
              "      <td>NaN</td>\n",
              "    </tr>\n",
              "    <tr>\n",
              "      <th>18851</th>\n",
              "      <td>5eb564652db742ff8f28759cd8d2652a</td>\n",
              "      <td>NaN</td>\n",
              "      <td>NaN</td>\n",
              "      <td>NaN</td>\n",
              "      <td>NaN</td>\n",
              "      <td>NaN</td>\n",
              "      <td>NaN</td>\n",
              "      <td>NaN</td>\n",
              "      <td>NaN</td>\n",
              "    </tr>\n",
              "  </tbody>\n",
              "</table>\n",
              "</div>"
            ],
            "text/plain": [
              "                             product_id product_category_name  \\\n",
              "8578   09ff539a621711667c43eba6a3bd8466                 bebes   \n",
              "18851  5eb564652db742ff8f28759cd8d2652a                   NaN   \n",
              "\n",
              "       product_name_lenght  product_description_lenght  product_photos_qty  \\\n",
              "8578                  60.0                       865.0                 3.0   \n",
              "18851                  NaN                         NaN                 NaN   \n",
              "\n",
              "       product_weight_g  product_length_cm  product_height_cm  \\\n",
              "8578                NaN                NaN                NaN   \n",
              "18851               NaN                NaN                NaN   \n",
              "\n",
              "       product_width_cm  \n",
              "8578                NaN  \n",
              "18851               NaN  "
            ]
          },
          "execution_count": 396,
          "metadata": {},
          "output_type": "execute_result"
        }
      ],
      "source": [
        "products_df[products_df['product_length_cm'].isnull()==True]"
      ]
    },
    {
      "cell_type": "code",
      "execution_count": null,
      "id": "44be84c4",
      "metadata": {
        "id": "44be84c4"
      },
      "outputs": [],
      "source": [
        "products_df.drop(index=18851, inplace=True)"
      ]
    },
    {
      "cell_type": "code",
      "execution_count": null,
      "id": "f970df9a",
      "metadata": {
        "id": "f970df9a",
        "outputId": "c7d48d19-b98b-47d5-9903-4b83828776d3"
      },
      "outputs": [
        {
          "data": {
            "text/plain": [
              "product_id                      0\n",
              "product_category_name         609\n",
              "product_name_lenght           609\n",
              "product_description_lenght    609\n",
              "product_photos_qty            609\n",
              "product_weight_g                1\n",
              "product_length_cm               1\n",
              "product_height_cm               1\n",
              "product_width_cm                1\n",
              "dtype: int64"
            ]
          },
          "execution_count": 335,
          "metadata": {},
          "output_type": "execute_result"
        }
      ],
      "source": [
        "products_df.isnull().sum()"
      ]
    },
    {
      "cell_type": "markdown",
      "id": "b2798fcc",
      "metadata": {
        "id": "b2798fcc"
      },
      "source": [
        "Since we have non-null values in order_purchase_timestamp, we could use this column to replace when assuming that for all the rows that contains the null values, the delta time between each column is the same."
      ]
    },
    {
      "cell_type": "code",
      "execution_count": null,
      "id": "4ea11006",
      "metadata": {
        "scrolled": true,
        "id": "4ea11006",
        "outputId": "0f3bffc6-bb42-41ea-89c1-8c7150ef3fc7"
      },
      "outputs": [
        {
          "data": {
            "text/html": [
              "<div>\n",
              "<style scoped>\n",
              "    .dataframe tbody tr th:only-of-type {\n",
              "        vertical-align: middle;\n",
              "    }\n",
              "\n",
              "    .dataframe tbody tr th {\n",
              "        vertical-align: top;\n",
              "    }\n",
              "\n",
              "    .dataframe thead th {\n",
              "        text-align: right;\n",
              "    }\n",
              "</style>\n",
              "<table border=\"1\" class=\"dataframe\">\n",
              "  <thead>\n",
              "    <tr style=\"text-align: right;\">\n",
              "      <th></th>\n",
              "      <th>product_id</th>\n",
              "      <th>product_category_name</th>\n",
              "      <th>product_name_lenght</th>\n",
              "      <th>product_description_lenght</th>\n",
              "      <th>product_photos_qty</th>\n",
              "      <th>product_weight_g</th>\n",
              "      <th>product_length_cm</th>\n",
              "      <th>product_height_cm</th>\n",
              "      <th>product_width_cm</th>\n",
              "    </tr>\n",
              "  </thead>\n",
              "  <tbody>\n",
              "    <tr>\n",
              "      <th>8578</th>\n",
              "      <td>09ff539a621711667c43eba6a3bd8466</td>\n",
              "      <td>bebes</td>\n",
              "      <td>60.0</td>\n",
              "      <td>865.0</td>\n",
              "      <td>3.0</td>\n",
              "      <td>NaN</td>\n",
              "      <td>NaN</td>\n",
              "      <td>NaN</td>\n",
              "      <td>NaN</td>\n",
              "    </tr>\n",
              "  </tbody>\n",
              "</table>\n",
              "</div>"
            ],
            "text/plain": [
              "                            product_id product_category_name  \\\n",
              "8578  09ff539a621711667c43eba6a3bd8466                 bebes   \n",
              "\n",
              "      product_name_lenght  product_description_lenght  product_photos_qty  \\\n",
              "8578                 60.0                       865.0                 3.0   \n",
              "\n",
              "      product_weight_g  product_length_cm  product_height_cm  product_width_cm  \n",
              "8578               NaN                NaN                NaN               NaN  "
            ]
          },
          "execution_count": 398,
          "metadata": {},
          "output_type": "execute_result"
        }
      ],
      "source": [
        "products_df[products_df['product_weight_g'].isnull()]"
      ]
    },
    {
      "cell_type": "markdown",
      "id": "75391999",
      "metadata": {
        "id": "75391999"
      },
      "source": [
        "Looks like the null values in the last 3 cols belongs to 1 single product. We will try to see whether there is anyproducts is alike."
      ]
    },
    {
      "cell_type": "code",
      "execution_count": null,
      "id": "68c28d94",
      "metadata": {
        "id": "68c28d94",
        "outputId": "7a1f681e-a68d-44ca-c2c1-1ee65d80e446"
      },
      "outputs": [
        {
          "data": {
            "text/html": [
              "<div>\n",
              "<style scoped>\n",
              "    .dataframe tbody tr th:only-of-type {\n",
              "        vertical-align: middle;\n",
              "    }\n",
              "\n",
              "    .dataframe tbody tr th {\n",
              "        vertical-align: top;\n",
              "    }\n",
              "\n",
              "    .dataframe thead th {\n",
              "        text-align: right;\n",
              "    }\n",
              "</style>\n",
              "<table border=\"1\" class=\"dataframe\">\n",
              "  <thead>\n",
              "    <tr style=\"text-align: right;\">\n",
              "      <th></th>\n",
              "      <th>product_id</th>\n",
              "      <th>product_category_name</th>\n",
              "      <th>product_name_lenght</th>\n",
              "      <th>product_description_lenght</th>\n",
              "      <th>product_photos_qty</th>\n",
              "      <th>product_weight_g</th>\n",
              "      <th>product_length_cm</th>\n",
              "      <th>product_height_cm</th>\n",
              "      <th>product_width_cm</th>\n",
              "    </tr>\n",
              "  </thead>\n",
              "  <tbody>\n",
              "    <tr>\n",
              "      <th>1294</th>\n",
              "      <td>6fd08d44046ab994b96ff38ad6fcfba1</td>\n",
              "      <td>bebes</td>\n",
              "      <td>60.0</td>\n",
              "      <td>865.0</td>\n",
              "      <td>1.0</td>\n",
              "      <td>500.0</td>\n",
              "      <td>23.0</td>\n",
              "      <td>23.0</td>\n",
              "      <td>23.0</td>\n",
              "    </tr>\n",
              "    <tr>\n",
              "      <th>8578</th>\n",
              "      <td>09ff539a621711667c43eba6a3bd8466</td>\n",
              "      <td>bebes</td>\n",
              "      <td>60.0</td>\n",
              "      <td>865.0</td>\n",
              "      <td>3.0</td>\n",
              "      <td>NaN</td>\n",
              "      <td>NaN</td>\n",
              "      <td>NaN</td>\n",
              "      <td>NaN</td>\n",
              "    </tr>\n",
              "  </tbody>\n",
              "</table>\n",
              "</div>"
            ],
            "text/plain": [
              "                            product_id product_category_name  \\\n",
              "1294  6fd08d44046ab994b96ff38ad6fcfba1                 bebes   \n",
              "8578  09ff539a621711667c43eba6a3bd8466                 bebes   \n",
              "\n",
              "      product_name_lenght  product_description_lenght  product_photos_qty  \\\n",
              "1294                 60.0                       865.0                 1.0   \n",
              "8578                 60.0                       865.0                 3.0   \n",
              "\n",
              "      product_weight_g  product_length_cm  product_height_cm  product_width_cm  \n",
              "1294             500.0               23.0               23.0              23.0  \n",
              "8578               NaN                NaN                NaN               NaN  "
            ]
          },
          "execution_count": 399,
          "metadata": {},
          "output_type": "execute_result"
        }
      ],
      "source": [
        "products_df[(products_df['product_category_name']=='bebes')&(products_df['product_name_lenght']==60.0)&(products_df['product_description_lenght']==865.0)]"
      ]
    },
    {
      "cell_type": "markdown",
      "id": "db386aa3",
      "metadata": {
        "id": "db386aa3"
      },
      "source": [
        "We found one. We will try to replace it with the same value."
      ]
    },
    {
      "cell_type": "code",
      "execution_count": null,
      "id": "915a4394",
      "metadata": {
        "id": "915a4394",
        "outputId": "65337187-c5f2-4313-c274-f33648cd2e8b"
      },
      "outputs": [
        {
          "data": {
            "text/plain": [
              "product_id                    09ff539a621711667c43eba6a3bd8466\n",
              "product_category_name                                    bebes\n",
              "product_name_lenght                                       60.0\n",
              "product_description_lenght                               865.0\n",
              "product_photos_qty                                         3.0\n",
              "product_weight_g                                         500.0\n",
              "product_length_cm                                         23.0\n",
              "product_height_cm                                         23.0\n",
              "product_width_cm                                          23.0\n",
              "Name: 8578, dtype: object"
            ]
          },
          "execution_count": 400,
          "metadata": {},
          "output_type": "execute_result"
        }
      ],
      "source": [
        "for col in [5,6,7,8]:\n",
        "    products_df.iloc[8578,col] = products_df.iloc[1294, col]\n",
        "\n",
        "products_df.iloc[8578,:]"
      ]
    },
    {
      "cell_type": "markdown",
      "id": "c10d29e9",
      "metadata": {
        "id": "c10d29e9"
      },
      "source": [
        "The method above is similar to KNN where we check those most similiar products to the one that has the null values and replace those nulls with already-existed one. We will optimize a model in Sklearn: KNNImpute to perform null values replacement in the 3 remaining columns that containing null.\n",
        "\n",
        "We will use the entire relational database to apply the KNNImpute to find the most precise number to replace those null values."
      ]
    },
    {
      "cell_type": "markdown",
      "id": "3bef95e0",
      "metadata": {
        "id": "3bef95e0"
      },
      "source": [
        "## Create a dataframe that has all necessary values"
      ]
    },
    {
      "cell_type": "code",
      "execution_count": null,
      "id": "d4893681",
      "metadata": {
        "id": "d4893681",
        "outputId": "269f1777-762e-4485-9be7-b7f48f23cc09"
      },
      "outputs": [
        {
          "data": {
            "text/html": [
              "<div>\n",
              "<style scoped>\n",
              "    .dataframe tbody tr th:only-of-type {\n",
              "        vertical-align: middle;\n",
              "    }\n",
              "\n",
              "    .dataframe tbody tr th {\n",
              "        vertical-align: top;\n",
              "    }\n",
              "\n",
              "    .dataframe thead th {\n",
              "        text-align: right;\n",
              "    }\n",
              "</style>\n",
              "<table border=\"1\" class=\"dataframe\">\n",
              "  <thead>\n",
              "    <tr style=\"text-align: right;\">\n",
              "      <th></th>\n",
              "      <th>product_name_lenght</th>\n",
              "      <th>product_description_lenght</th>\n",
              "      <th>product_photos_qty</th>\n",
              "      <th>product_weight_g</th>\n",
              "      <th>product_length_cm</th>\n",
              "      <th>product_height_cm</th>\n",
              "      <th>product_width_cm</th>\n",
              "      <th>price</th>\n",
              "      <th>freight_value</th>\n",
              "    </tr>\n",
              "  </thead>\n",
              "  <tbody>\n",
              "    <tr>\n",
              "      <th>0</th>\n",
              "      <td>40.0</td>\n",
              "      <td>287.0</td>\n",
              "      <td>1.0</td>\n",
              "      <td>225.0</td>\n",
              "      <td>16.0</td>\n",
              "      <td>10.0</td>\n",
              "      <td>14.0</td>\n",
              "      <td>10.910000</td>\n",
              "      <td>7.390000</td>\n",
              "    </tr>\n",
              "    <tr>\n",
              "      <th>1</th>\n",
              "      <td>44.0</td>\n",
              "      <td>276.0</td>\n",
              "      <td>1.0</td>\n",
              "      <td>1000.0</td>\n",
              "      <td>30.0</td>\n",
              "      <td>18.0</td>\n",
              "      <td>20.0</td>\n",
              "      <td>248.000000</td>\n",
              "      <td>17.990000</td>\n",
              "    </tr>\n",
              "    <tr>\n",
              "      <th>2</th>\n",
              "      <td>46.0</td>\n",
              "      <td>250.0</td>\n",
              "      <td>1.0</td>\n",
              "      <td>154.0</td>\n",
              "      <td>18.0</td>\n",
              "      <td>9.0</td>\n",
              "      <td>15.0</td>\n",
              "      <td>79.800000</td>\n",
              "      <td>7.820000</td>\n",
              "    </tr>\n",
              "    <tr>\n",
              "      <th>3</th>\n",
              "      <td>27.0</td>\n",
              "      <td>261.0</td>\n",
              "      <td>1.0</td>\n",
              "      <td>371.0</td>\n",
              "      <td>26.0</td>\n",
              "      <td>4.0</td>\n",
              "      <td>26.0</td>\n",
              "      <td>112.300000</td>\n",
              "      <td>9.540000</td>\n",
              "    </tr>\n",
              "    <tr>\n",
              "      <th>4</th>\n",
              "      <td>37.0</td>\n",
              "      <td>402.0</td>\n",
              "      <td>4.0</td>\n",
              "      <td>625.0</td>\n",
              "      <td>20.0</td>\n",
              "      <td>17.0</td>\n",
              "      <td>13.0</td>\n",
              "      <td>37.900000</td>\n",
              "      <td>8.290000</td>\n",
              "    </tr>\n",
              "    <tr>\n",
              "      <th>...</th>\n",
              "      <td>...</td>\n",
              "      <td>...</td>\n",
              "      <td>...</td>\n",
              "      <td>...</td>\n",
              "      <td>...</td>\n",
              "      <td>...</td>\n",
              "      <td>...</td>\n",
              "      <td>...</td>\n",
              "      <td>...</td>\n",
              "    </tr>\n",
              "    <tr>\n",
              "      <th>32945</th>\n",
              "      <td>45.0</td>\n",
              "      <td>67.0</td>\n",
              "      <td>2.0</td>\n",
              "      <td>12300.0</td>\n",
              "      <td>40.0</td>\n",
              "      <td>40.0</td>\n",
              "      <td>40.0</td>\n",
              "      <td>69.900000</td>\n",
              "      <td>31.103939</td>\n",
              "    </tr>\n",
              "    <tr>\n",
              "      <th>32946</th>\n",
              "      <td>41.0</td>\n",
              "      <td>971.0</td>\n",
              "      <td>1.0</td>\n",
              "      <td>1700.0</td>\n",
              "      <td>16.0</td>\n",
              "      <td>19.0</td>\n",
              "      <td>16.0</td>\n",
              "      <td>200.000000</td>\n",
              "      <td>17.495000</td>\n",
              "    </tr>\n",
              "    <tr>\n",
              "      <th>32947</th>\n",
              "      <td>50.0</td>\n",
              "      <td>799.0</td>\n",
              "      <td>1.0</td>\n",
              "      <td>1400.0</td>\n",
              "      <td>27.0</td>\n",
              "      <td>7.0</td>\n",
              "      <td>27.0</td>\n",
              "      <td>127.300000</td>\n",
              "      <td>17.608000</td>\n",
              "    </tr>\n",
              "    <tr>\n",
              "      <th>32948</th>\n",
              "      <td>60.0</td>\n",
              "      <td>156.0</td>\n",
              "      <td>2.0</td>\n",
              "      <td>700.0</td>\n",
              "      <td>31.0</td>\n",
              "      <td>13.0</td>\n",
              "      <td>20.0</td>\n",
              "      <td>32.702857</td>\n",
              "      <td>19.182857</td>\n",
              "    </tr>\n",
              "    <tr>\n",
              "      <th>32949</th>\n",
              "      <td>58.0</td>\n",
              "      <td>309.0</td>\n",
              "      <td>1.0</td>\n",
              "      <td>2083.0</td>\n",
              "      <td>12.0</td>\n",
              "      <td>2.0</td>\n",
              "      <td>7.0</td>\n",
              "      <td>107.500000</td>\n",
              "      <td>27.050000</td>\n",
              "    </tr>\n",
              "  </tbody>\n",
              "</table>\n",
              "<p>32950 rows × 9 columns</p>\n",
              "</div>"
            ],
            "text/plain": [
              "       product_name_lenght  product_description_lenght  product_photos_qty  \\\n",
              "0                     40.0                       287.0                 1.0   \n",
              "1                     44.0                       276.0                 1.0   \n",
              "2                     46.0                       250.0                 1.0   \n",
              "3                     27.0                       261.0                 1.0   \n",
              "4                     37.0                       402.0                 4.0   \n",
              "...                    ...                         ...                 ...   \n",
              "32945                 45.0                        67.0                 2.0   \n",
              "32946                 41.0                       971.0                 1.0   \n",
              "32947                 50.0                       799.0                 1.0   \n",
              "32948                 60.0                       156.0                 2.0   \n",
              "32949                 58.0                       309.0                 1.0   \n",
              "\n",
              "       product_weight_g  product_length_cm  product_height_cm  \\\n",
              "0                 225.0               16.0               10.0   \n",
              "1                1000.0               30.0               18.0   \n",
              "2                 154.0               18.0                9.0   \n",
              "3                 371.0               26.0                4.0   \n",
              "4                 625.0               20.0               17.0   \n",
              "...                 ...                ...                ...   \n",
              "32945           12300.0               40.0               40.0   \n",
              "32946            1700.0               16.0               19.0   \n",
              "32947            1400.0               27.0                7.0   \n",
              "32948             700.0               31.0               13.0   \n",
              "32949            2083.0               12.0                2.0   \n",
              "\n",
              "       product_width_cm       price  freight_value  \n",
              "0                  14.0   10.910000       7.390000  \n",
              "1                  20.0  248.000000      17.990000  \n",
              "2                  15.0   79.800000       7.820000  \n",
              "3                  26.0  112.300000       9.540000  \n",
              "4                  13.0   37.900000       8.290000  \n",
              "...                 ...         ...            ...  \n",
              "32945              40.0   69.900000      31.103939  \n",
              "32946              16.0  200.000000      17.495000  \n",
              "32947              27.0  127.300000      17.608000  \n",
              "32948              20.0   32.702857      19.182857  \n",
              "32949               7.0  107.500000      27.050000  \n",
              "\n",
              "[32950 rows x 9 columns]"
            ]
          },
          "execution_count": 401,
          "metadata": {},
          "output_type": "execute_result"
        }
      ],
      "source": [
        "#avg prices for each product\n",
        "product_price = items_df.groupby('product_id').agg({'price':'mean','freight_value':'mean'})\n",
        "\n",
        "#mege into product_df\n",
        "merged_products = pd.merge(products_df, product_price, on='product_id', how='left')\n",
        "\n",
        "#drop product_id\n",
        "merged_products.drop(columns=['product_id'], inplace=True)\n",
        "\n",
        "# Identify and drop non-numeric or non-continuous columns\n",
        "non_numeric_columns = merged_products.select_dtypes(exclude=['float64', 'int64']).columns\n",
        "merged_products_quant = merged_products.drop(columns=non_numeric_columns)\n",
        "\n",
        "#display\n",
        "merged_products_quant"
      ]
    },
    {
      "cell_type": "code",
      "execution_count": null,
      "id": "3c0b0dc7",
      "metadata": {
        "scrolled": true,
        "id": "3c0b0dc7",
        "outputId": "4ff9901b-3ebd-4595-b085-272d5a0783b3"
      },
      "outputs": [
        {
          "data": {
            "text/plain": [
              "product_name_lenght           0\n",
              "product_description_lenght    0\n",
              "product_photos_qty            0\n",
              "product_weight_g              0\n",
              "product_length_cm             0\n",
              "product_height_cm             0\n",
              "product_width_cm              0\n",
              "price                         0\n",
              "freight_value                 0\n",
              "dtype: int64"
            ]
          },
          "execution_count": 402,
          "metadata": {},
          "output_type": "execute_result"
        }
      ],
      "source": [
        "model_product_df = merged_products_quant.dropna()\n",
        "model_product_df.isnull().sum()"
      ]
    },
    {
      "cell_type": "markdown",
      "id": "b4b27560",
      "metadata": {
        "id": "b4b27560"
      },
      "source": [
        "## Create the model"
      ]
    },
    {
      "cell_type": "code",
      "execution_count": null,
      "id": "f4303e93",
      "metadata": {
        "id": "f4303e93",
        "outputId": "9022033b-eb97-4971-b88b-49eabdbe9b8c"
      },
      "outputs": [
        {
          "name": "stdout",
          "output_type": "stream",
          "text": [
            "product_name_lenght             0\n",
            "product_description_lenght      0\n",
            "product_photos_qty            576\n",
            "product_weight_g              575\n",
            "product_length_cm             576\n",
            "product_height_cm               0\n",
            "product_width_cm                0\n",
            "price                           0\n",
            "freight_value                   0\n",
            "dtype: int64\n"
          ]
        }
      ],
      "source": [
        "#col with missing val\n",
        "col_with_null = ['product_name_lenght', 'product_description_lenght', 'product_photos_qty']\n",
        "\n",
        "# Create training set\n",
        "train_df = model_product_df.copy()\n",
        "\n",
        "# Set random values in specified columns to NaN\n",
        "for col_ind in [2, 3, 4]:\n",
        "    for num in range(round(len(model_product_df) * 0.018)):\n",
        "        rand_place = np.random.randint(1, len(model_product_df))\n",
        "        train_df.iloc[rand_place, col_ind] = np.nan\n",
        "\n",
        "# Check for null values in the modified DataFrame\n",
        "print(train_df.isnull().sum())"
      ]
    },
    {
      "cell_type": "code",
      "execution_count": null,
      "id": "c82fbc61",
      "metadata": {
        "scrolled": true,
        "id": "c82fbc61",
        "outputId": "2816a660-fdc8-4399-cb5c-6897c46c574d"
      },
      "outputs": [
        {
          "data": {
            "image/png": "[encoded data removed]",
            "text/plain": [
              "<Figure size 640x480 with 1 Axes>"
            ]
          },
          "metadata": {},
          "output_type": "display_data"
        }
      ],
      "source": [
        "# Store error values for each k\n",
        "errors = []\n",
        "\n",
        "#loop through k-values to test the perfect k\n",
        "for k in range(1,21):\n",
        "    imputer = KNNImputer(n_neighbors=k)\n",
        "\n",
        "    df_imputed = pd.DataFrame(imputer.fit_transform(train_df), columns=train_df.columns)\n",
        "\n",
        "    # Evaluate the performance using mean squared error\n",
        "    error = 0\n",
        "\n",
        "    for col_ind in [2, 3, 4]:\n",
        "        error += mean_squared_error(model_product_df.iloc[:, col_ind], df_imputed.iloc[:, col_ind])\n",
        "\n",
        "    #append error\n",
        "    errors.append(error)\n",
        "\n",
        "# Visualizization\n",
        "plt.plot(range(1,21), errors, marker='o')\n",
        "plt.xlabel('Number of Neighbors (k)')\n",
        "plt.ylabel('Error')\n",
        "plt.title('Error vs. Number of Neighbors (k)')\n",
        "\n",
        "#display\n",
        "plt.show()"
      ]
    },
    {
      "cell_type": "markdown",
      "id": "454eda1a",
      "metadata": {
        "id": "454eda1a"
      },
      "source": [
        "==> Choose K=4"
      ]
    },
    {
      "cell_type": "code",
      "execution_count": null,
      "id": "b1667300",
      "metadata": {
        "id": "b1667300",
        "outputId": "208faa4b-41ae-4e9e-ce3e-d8bbacfb9703"
      },
      "outputs": [
        {
          "data": {
            "text/plain": [
              "product_name_lenght           0\n",
              "product_description_lenght    0\n",
              "product_photos_qty            0\n",
              "product_weight_g              0\n",
              "product_length_cm             0\n",
              "product_height_cm             0\n",
              "product_width_cm              0\n",
              "price                         0\n",
              "freight_value                 0\n",
              "dtype: int64"
            ]
          },
          "execution_count": 404,
          "metadata": {},
          "output_type": "execute_result"
        }
      ],
      "source": [
        "# Instantiate the KNNImputer\n",
        "imputer = KNNImputer(n_neighbors=4)\n",
        "\n",
        "# Impute missing values\n",
        "df_imputed = pd.DataFrame(imputer.fit_transform(merged_products_quant), columns=merged_products_quant.columns)\n",
        "\n",
        "df_imputed.isnull().sum()"
      ]
    },
    {
      "cell_type": "code",
      "execution_count": null,
      "id": "c4a79526",
      "metadata": {
        "scrolled": true,
        "id": "c4a79526",
        "outputId": "6db1fb10-f30a-4b84-ff48-05ad92fbc308"
      },
      "outputs": [
        {
          "data": {
            "text/plain": [
              "product_id                      0\n",
              "product_category_name         609\n",
              "product_name_lenght             0\n",
              "product_description_lenght      0\n",
              "product_photos_qty              0\n",
              "product_weight_g                0\n",
              "product_length_cm               0\n",
              "product_height_cm               0\n",
              "product_width_cm                0\n",
              "dtype: int64"
            ]
          },
          "execution_count": 407,
          "metadata": {},
          "output_type": "execute_result"
        }
      ],
      "source": [
        "for col in col_with_null:\n",
        "    products_df[col] = df_imputed[col]\n",
        "\n",
        "products_df.isnull().sum()"
      ]
    },
    {
      "cell_type": "code",
      "execution_count": null,
      "id": "7a70b761",
      "metadata": {
        "id": "7a70b761"
      },
      "outputs": [],
      "source": [
        "#store clean_data\n",
        "products_df.to_csv('../Data/CleanData/clean_products_df.csv')"
      ]
    },
    {
      "cell_type": "markdown",
      "id": "b3254275",
      "metadata": {
        "id": "b3254275"
      },
      "source": [
        " <a id=\"2biv\"></a>\n",
        "<font color=\"green\" size=+2><b>iv. Categorical Null Values (products_df)</b></font>"
      ]
    },
    {
      "cell_type": "code",
      "execution_count": null,
      "id": "3d6de151",
      "metadata": {
        "id": "3d6de151"
      },
      "outputs": [],
      "source": [
        "products_df = pd.read_csv('Data/CleanData/clean_products_df.csv')"
      ]
    },
    {
      "cell_type": "code",
      "execution_count": null,
      "id": "6fc31ff6",
      "metadata": {
        "id": "6fc31ff6"
      },
      "outputs": [],
      "source": [
        "#import packages\n",
        "from pyspark.sql import SparkSession\n",
        "from pyspark.ml.feature import VectorAssembler, StringIndexer\n",
        "from pyspark.ml.classification import RandomForestClassifier\n",
        "from pyspark.ml import Pipeline\n",
        "from pyspark.ml.evaluation import MulticlassClassificationEvaluator"
      ]
    },
    {
      "cell_type": "code",
      "execution_count": null,
      "id": "768659bd",
      "metadata": {
        "scrolled": true,
        "colab": {
          "base_uri": "https://localhost:8080/"
        },
        "id": "768659bd",
        "outputId": "7f73224d-b324-46a3-d8ae-7665f82eca20"
      },
      "outputs": [
        {
          "output_type": "execute_result",
          "data": {
            "text/plain": [
              "Unnamed: 0                      0\n",
              "product_id                      0\n",
              "product_category_name         609\n",
              "product_name_lenght             0\n",
              "product_description_lenght      0\n",
              "product_photos_qty              0\n",
              "product_weight_g                0\n",
              "product_length_cm               0\n",
              "product_height_cm               0\n",
              "product_width_cm                0\n",
              "dtype: int64"
            ]
          },
          "metadata": {},
          "execution_count": 8
        }
      ],
      "source": [
        "products_df.isnull().sum()"
      ]
    },
    {
      "cell_type": "markdown",
      "source": [
        "## Model Building"
      ],
      "metadata": {
        "id": "qreivx0vhEaw"
      },
      "id": "qreivx0vhEaw"
    },
    {
      "cell_type": "code",
      "execution_count": null,
      "id": "f5080059",
      "metadata": {
        "colab": {
          "base_uri": "https://localhost:8080/"
        },
        "id": "f5080059",
        "outputId": "ba0a8e2e-2750-4bbe-f8e4-438ec40dc0ca"
      },
      "outputs": [
        {
          "output_type": "stream",
          "name": "stdout",
          "text": [
            "+----------+--------------------+---------------------+-------------------+--------------------------+------------------+----------------+-----------------+-----------------+----------------+\n",
            "|Unnamed: 0|          product_id|product_category_name|product_name_lenght|product_description_lenght|product_photos_qty|product_weight_g|product_length_cm|product_height_cm|product_width_cm|\n",
            "+----------+--------------------+---------------------+-------------------+--------------------------+------------------+----------------+-----------------+-----------------+----------------+\n",
            "|         0|1e9e8ef04dbcff454...|           perfumaria|               40.0|                     287.0|               1.0|           225.0|             16.0|             10.0|            14.0|\n",
            "|         1|3aa071139cb16b67c...|                artes|               44.0|                     276.0|               1.0|          1000.0|             30.0|             18.0|            20.0|\n",
            "|         2|96bd76ec8810374ed...|        esporte_lazer|               46.0|                     250.0|               1.0|           154.0|             18.0|              9.0|            15.0|\n",
            "|         3|cef67bcfe19066a93...|                bebes|               27.0|                     261.0|               1.0|           371.0|             26.0|              4.0|            26.0|\n",
            "|         4|9dc1a7de274444849...| utilidades_domest...|               37.0|                     402.0|               4.0|           625.0|             20.0|             17.0|            13.0|\n",
            "+----------+--------------------+---------------------+-------------------+--------------------------+------------------+----------------+-----------------+-----------------+----------------+\n",
            "only showing top 5 rows\n",
            "\n"
          ]
        }
      ],
      "source": [
        "# Create a SparkSession\n",
        "spark = SparkSession.builder.appName(\"RFC\").getOrCreate()\n",
        "\n",
        "# Load df into spark\n",
        "spark_products_df = spark.createDataFrame(products_df)\n",
        "\n",
        "#display\n",
        "spark_products_df.show(5)"
      ]
    },
    {
      "cell_type": "code",
      "execution_count": null,
      "id": "d5b5e80a",
      "metadata": {
        "colab": {
          "base_uri": "https://localhost:8080/"
        },
        "id": "d5b5e80a",
        "outputId": "e0594b0e-ac7f-4d8d-87af-23801d1c0349"
      },
      "outputs": [
        {
          "output_type": "stream",
          "name": "stdout",
          "text": [
            "+----------+--------------------+---------------------+-------------------+--------------------------+------------------+----------------+-----------------+-----------------+----------------+\n",
            "|Unnamed: 0|          product_id|product_category_name|product_name_lenght|product_description_lenght|product_photos_qty|product_weight_g|product_length_cm|product_height_cm|product_width_cm|\n",
            "+----------+--------------------+---------------------+-------------------+--------------------------+------------------+----------------+-----------------+-----------------+----------------+\n",
            "|         0|1e9e8ef04dbcff454...|           perfumaria|               40.0|                     287.0|               1.0|           225.0|             16.0|             10.0|            14.0|\n",
            "|         1|3aa071139cb16b67c...|                artes|               44.0|                     276.0|               1.0|          1000.0|             30.0|             18.0|            20.0|\n",
            "|         2|96bd76ec8810374ed...|        esporte_lazer|               46.0|                     250.0|               1.0|           154.0|             18.0|              9.0|            15.0|\n",
            "|         3|cef67bcfe19066a93...|                bebes|               27.0|                     261.0|               1.0|           371.0|             26.0|              4.0|            26.0|\n",
            "|         4|9dc1a7de274444849...| utilidades_domest...|               37.0|                     402.0|               4.0|           625.0|             20.0|             17.0|            13.0|\n",
            "+----------+--------------------+---------------------+-------------------+--------------------------+------------------+----------------+-----------------+-----------------+----------------+\n",
            "only showing top 5 rows\n",
            "\n"
          ]
        }
      ],
      "source": [
        "#features & target\n",
        "features = ['product_name_lenght', 'product_description_lenght', 'product_photos_qty', 'product_photos_qty', 'product_length_cm', 'product_length_cm', 'product_width_cm']\n",
        "target = 'product_category_name'\n",
        "\n",
        "# Split data into training and testing sets\n",
        "train_data = products_df.dropna(subset=[target])\n",
        "spark_train_data = spark.createDataFrame(train_data)\n",
        "\n",
        "test_data = products_df[products_df[target].isnull()]\n",
        "spark_test_data = spark.createDataFrame(test_data)\n",
        "\n",
        "#display\n",
        "spark_train_data.show(5)"
      ]
    },
    {
      "cell_type": "code",
      "source": [
        "#vectorize\n",
        "assembler = VectorAssembler(inputCols=features, outputCol=\"features\")\n",
        "indexer = StringIndexer(inputCol=target, outputCol=\"label\")\n",
        "spark_train_data = assembler.transform(spark_train_data).select(\"features\", target)\n",
        "spark_train_data = indexer.fit(spark_train_data).transform(spark_train_data)\n",
        "\n",
        "# Split data into training and testing sets\n",
        "train_df, test_df = spark_train_data.randomSplit([0.8, 0.2], seed=123)\n",
        "\n",
        "train_df.show(5)"
      ],
      "metadata": {
        "colab": {
          "base_uri": "https://localhost:8080/"
        },
        "id": "AN7mSoUdhG1B",
        "outputId": "7340295d-f2ab-4004-a9f8-51edf1c5950a"
      },
      "id": "AN7mSoUdhG1B",
      "execution_count": null,
      "outputs": [
        {
          "output_type": "stream",
          "name": "stdout",
          "text": [
            "+--------------------+---------------------+-----+\n",
            "|            features|product_category_name|label|\n",
            "+--------------------+---------------------+-----+\n",
            "|[5.0,267.0,1.0,1....|     moveis_decoracao|  2.0|\n",
            "|[7.0,289.0,1.0,1....|                bebes| 10.0|\n",
            "|[9.0,90.0,1.0,1.0...| fashion_bolsas_e_...| 12.0|\n",
            "|[9.0,254.0,1.0,1....|        esporte_lazer|  1.0|\n",
            "|[9.0,254.0,1.0,1....|        esporte_lazer|  1.0|\n",
            "+--------------------+---------------------+-----+\n",
            "only showing top 5 rows\n",
            "\n"
          ]
        }
      ]
    },
    {
      "cell_type": "code",
      "source": [
        "#train model\n",
        "rf = RandomForestClassifier(labelCol=\"label\", featuresCol=\"features\")\n",
        "model = rf.fit(train_df)"
      ],
      "metadata": {
        "id": "nXoSb0HrhkTE"
      },
      "id": "nXoSb0HrhkTE",
      "execution_count": null,
      "outputs": []
    },
    {
      "cell_type": "code",
      "source": [
        "#prediction\n",
        "predictions = model.transform(test_df)\n",
        "\n",
        "#Evaluate Model\n",
        "evaluator = MulticlassClassificationEvaluator(labelCol=\"label\", predictionCol=\"prediction\", metricName=\"accuracy\")\n",
        "\n",
        "# Calculate accuracy\n",
        "accuracy = evaluator.evaluate(predictions)\n",
        "\n",
        "#display\n",
        "print(\"Accuracy:\", accuracy)"
      ],
      "metadata": {
        "id": "Lk926hFshoaT",
        "colab": {
          "base_uri": "https://localhost:8080/"
        },
        "outputId": "ed1eae2a-2e9f-47e4-8e96-81782280a3e3"
      },
      "id": "Lk926hFshoaT",
      "execution_count": null,
      "outputs": [
        {
          "output_type": "stream",
          "name": "stdout",
          "text": [
            "Accuracy: 0.21165407738554032\n"
          ]
        }
      ]
    },
    {
      "cell_type": "code",
      "execution_count": null,
      "id": "823814e6",
      "metadata": {
        "id": "823814e6"
      },
      "outputs": [],
      "source": [
        "#store clean_data\n",
        "products_df.to_csv('../Data/CleanData/clean_products_df.csv')"
      ]
    },
    {
      "cell_type": "markdown",
      "id": "ba0b9a4b",
      "metadata": {
        "id": "ba0b9a4b"
      },
      "source": [
        "## Data Characteristics"
      ]
    },
    {
      "cell_type": "code",
      "execution_count": null,
      "id": "b4827710",
      "metadata": {
        "scrolled": true,
        "id": "b4827710",
        "outputId": "80135a59-eec2-40e8-985e-28c2daa9c296",
        "colab": {
          "base_uri": "https://localhost:8080/",
          "height": 211
        }
      },
      "outputs": [
        {
          "output_type": "error",
          "ename": "NameError",
          "evalue": "name 'datasets' is not defined",
          "traceback": [
            "\u001b[0;31m---------------------------------------------------------------------------\u001b[0m",
            "\u001b[0;31mNameError\u001b[0m                                 Traceback (most recent call last)",
            "\u001b[0;32m<ipython-input-60-c98458ec214f>\u001b[0m in \u001b[0;36m<cell line: 5>\u001b[0;34m()\u001b[0m\n\u001b[1;32m      3\u001b[0m \u001b[0mtype_list\u001b[0m \u001b[0;34m=\u001b[0m \u001b[0;34m[\u001b[0m\u001b[0;34m]\u001b[0m\u001b[0;34m\u001b[0m\u001b[0;34m\u001b[0m\u001b[0m\n\u001b[1;32m      4\u001b[0m \u001b[0;34m\u001b[0m\u001b[0m\n\u001b[0;32m----> 5\u001b[0;31m \u001b[0;32mfor\u001b[0m \u001b[0mdf\u001b[0m \u001b[0;32min\u001b[0m \u001b[0mdatasets\u001b[0m\u001b[0;34m:\u001b[0m\u001b[0;34m\u001b[0m\u001b[0;34m\u001b[0m\u001b[0m\n\u001b[0m\u001b[1;32m      6\u001b[0m     \u001b[0mdes_tab\u001b[0m \u001b[0;34m=\u001b[0m \u001b[0mpd\u001b[0m\u001b[0;34m.\u001b[0m\u001b[0mconcat\u001b[0m\u001b[0;34m(\u001b[0m\u001b[0;34m[\u001b[0m\u001b[0mdes_tab\u001b[0m\u001b[0;34m,\u001b[0m\u001b[0mdf\u001b[0m\u001b[0;34m.\u001b[0m\u001b[0mdescribe\u001b[0m\u001b[0;34m(\u001b[0m\u001b[0;34m)\u001b[0m\u001b[0;34m.\u001b[0m\u001b[0mtranspose\u001b[0m\u001b[0;34m(\u001b[0m\u001b[0;34m)\u001b[0m\u001b[0;34m]\u001b[0m\u001b[0;34m,\u001b[0m \u001b[0maxis\u001b[0m\u001b[0;34m=\u001b[0m\u001b[0;36m0\u001b[0m\u001b[0;34m)\u001b[0m\u001b[0;34m\u001b[0m\u001b[0;34m\u001b[0m\u001b[0m\n\u001b[1;32m      7\u001b[0m \u001b[0;34m\u001b[0m\u001b[0m\n",
            "\u001b[0;31mNameError\u001b[0m: name 'datasets' is not defined"
          ]
        }
      ],
      "source": [
        "#constructing describe table for datasets\n",
        "des_tab = pd.DataFrame()\n",
        "type_list = []\n",
        "\n",
        "for df in datasets:\n",
        "    des_tab = pd.concat([des_tab,df.describe().transpose()], axis=0)\n",
        "\n",
        "#object type\n",
        "obj_df = pd.DataFrame({})\n",
        "\n",
        "for df in datasets:\n",
        "    for col in df:\n",
        "        obj_df = pd.concat([obj_df, pd.DataFrame({'col':col, 'type':df[col].dtypes}, index=[0])],axis=0)\n",
        "\n",
        "#merge back to des_tab\n",
        "des_tab = des_tab.merge(obj_df, left_on=des_tab.index, right_on='col')\n",
        "\n",
        "#drop unecessary columns\n",
        "des_tab.drop(['25%','75%','top','freq'],axis=1,inplace=True)\n",
        "des_tab.set_index('col', inplace=True)\n",
        "\n",
        "#display\n",
        "des_tab"
      ]
    }
  ],
  "metadata": {
    "kernelspec": {
      "display_name": "Python 3 (ipykernel)",
      "language": "python",
      "name": "python3"
    },
    "language_info": {
      "codemirror_mode": {
        "name": "ipython",
        "version": 3
      },
      "file_extension": ".py",
      "mimetype": "text/x-python",
      "name": "python",
      "nbconvert_exporter": "python",
      "pygments_lexer": "ipython3",
      "version": "3.11.5"
    },
    "colab": {
      "provenance": []
    }
  },
  "nbformat": 4,
  "nbformat_minor": 5
}